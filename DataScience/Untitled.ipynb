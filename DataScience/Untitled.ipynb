{
 "cells": [
  {
   "cell_type": "markdown",
   "id": "bd8ec51f-69aa-4d2b-81bc-8153b9e0664e",
   "metadata": {},
   "source": [
    "# 2 Project Methodology "
   ]
  },
  {
   "cell_type": "markdown",
   "id": "de37e211-bd5b-4b31-a114-059fe7a06521",
   "metadata": {},
   "source": [
    "## 2.1 Data Acquistion "
   ]
  },
  {
   "cell_type": "code",
   "execution_count": 1,
   "id": "b87f7e7e-a380-4829-91de-0dca029962ef",
   "metadata": {},
   "outputs": [],
   "source": [
    "import pandas as pd\n",
    "import dask.dataframe as dd"
   ]
  },
  {
   "cell_type": "code",
   "execution_count": 2,
   "id": "e3ba7d01-2781-47a8-907c-fa561a2222df",
   "metadata": {},
   "outputs": [
    {
     "name": "stdout",
     "output_type": "stream",
     "text": [
      "      Level      Date  State FIPS State Postal Code  County FIPS County Name  \\\n",
      "0  National  1/1/2019         NaN               NaN          NaN         NaN   \n",
      "1  National  1/2/2019         NaN               NaN          NaN         NaN   \n",
      "2  National  1/3/2019         NaN               NaN          NaN         NaN   \n",
      "3  National  1/4/2019         NaN               NaN          NaN         NaN   \n",
      "4  National  1/5/2019         NaN               NaN          NaN         NaN   \n",
      "\n",
      "   Population Staying at Home  Population Not Staying at Home  \\\n",
      "0                  77433867.0                     248733553.0   \n",
      "1                  61305201.0                     264862219.0   \n",
      "2                  63050480.0                     263116940.0   \n",
      "3                  61803652.0                     264363768.0   \n",
      "4                  64389745.0                     261777675.0   \n",
      "\n",
      "   Number of Trips  Number of Trips <1  ...  Number of Trips 5-10  \\\n",
      "0     8.977844e+08         241667151.0  ...           129670778.0   \n",
      "1     1.139452e+09         291276735.0  ...           171637514.0   \n",
      "2     1.162753e+09         296375014.0  ...           175775410.0   \n",
      "3     1.181954e+09         293159631.0  ...           181324645.0   \n",
      "4     1.180477e+09         295459014.0  ...           180941769.0   \n",
      "\n",
      "   Number of Trips 10-25  Number of Trips 25-50  Number of Trips 50-100  \\\n",
      "0            116904343.0             40432062.0              15686639.0   \n",
      "1            167412698.0             56148976.0              17739183.0   \n",
      "2            172027487.0             57632422.0              18366626.0   \n",
      "3            176144493.0             58761592.0              19315785.0   \n",
      "4            165239790.0             54842134.0              19363939.0   \n",
      "\n",
      "   Number of Trips 100-250  Number of Trips 250-500  Number of Trips >=500  \\\n",
      "0                7525563.0                1806022.0              1728112.0   \n",
      "1                7817044.0                1962301.0              1531219.0   \n",
      "2                8124548.0                2038099.0              1567072.0   \n",
      "3                8687318.0                2096065.0              1569185.0   \n",
      "4                8490791.0                1991159.0              1438664.0   \n",
      "\n",
      "              Row ID  Week Month  \n",
      "0  00-00000-20190101     0     1  \n",
      "1  00-00000-20190102     0     1  \n",
      "2  00-00000-20190103     0     1  \n",
      "3  00-00000-20190104     0     1  \n",
      "4  00-00000-20190105     0     1  \n",
      "\n",
      "[5 rows x 22 columns]\n",
      "  Month of Date Week of Date  Year of Date     Level           Date  \\\n",
      "0        August      Week 32          2019  National  8/4/2019 0:00   \n",
      "1        August      Week 32          2019  National  8/5/2019 0:00   \n",
      "2        August      Week 32          2019  National  8/6/2019 0:00   \n",
      "3        August      Week 32          2019  National  8/7/2019 0:00   \n",
      "4        August      Week 32          2019  National  8/8/2019 0:00   \n",
      "\n",
      "  Week Ending Date  Trips <1 Mile  People Not Staying at Home  \\\n",
      "0        10-Aug-19      292959749                   258404133   \n",
      "1        10-Aug-19      317133861                   262199758   \n",
      "2        10-Aug-19      324443205                   260096133   \n",
      "3        10-Aug-19      358483024                   258878802   \n",
      "4        10-Aug-19      300765870                   262410045   \n",
      "\n",
      "   Population Staying at Home       Trips  ...  Trips 10-25 Miles  \\\n",
      "0                    67763287  1322685497  ...          200922270   \n",
      "1                    63967662  1412564488  ...          228809869   \n",
      "2                    66071287  1437762102  ...          235621127   \n",
      "3                    67288618  1543710309  ...          249988663   \n",
      "4                    63757375  1382044815  ...          226055368   \n",
      "\n",
      "   Trips 100-250 Miles  Trips 100+ Miles  Trips 25-100 Miles  \\\n",
      "0              8595827          15338786            79429125   \n",
      "1              6535920          12563068            86004297   \n",
      "2              5993704          11104823            87599579   \n",
      "3              5379881           8528574            92200386   \n",
      "4              6259735          12892348            84193587   \n",
      "\n",
      "   Trips 25-50 Miles  Trips 250-500 Miles  Trips 3-5 Miles  Trips 5-10 Miles  \\\n",
      "0           59517188              2273613        171336406         216121882   \n",
      "1           68184743              1941260        178996059         231048425   \n",
      "2           70149166              1741994        179210645         233248732   \n",
      "3           74381367              1272248        189163336         243872277   \n",
      "4           66724543              1957888        179346163         230933709   \n",
      "\n",
      "   Trips 50-100 Miles  Trips 500+ Miles  \n",
      "0            19911937           4469346  \n",
      "1            17819554           4085888  \n",
      "2            17450413           3369125  \n",
      "3            17819019           1876445  \n",
      "4            17469044           4674725  \n",
      "\n",
      "[5 rows x 22 columns]\n"
     ]
    },
    {
     "ename": "ValueError",
     "evalue": "Mismatched dtypes found in `pd.read_csv`/`pd.read_table`.\n\n+--------------------------------+---------+----------+\n| Column                         | Found   | Expected |\n+--------------------------------+---------+----------+\n| County Name                    | object  | float64  |\n| Number of Trips                | float64 | int64    |\n| Number of Trips 1-3            | float64 | int64    |\n| Number of Trips 10-25          | float64 | int64    |\n| Number of Trips 100-250        | float64 | int64    |\n| Number of Trips 25-50          | float64 | int64    |\n| Number of Trips 250-500        | float64 | int64    |\n| Number of Trips 3-5            | float64 | int64    |\n| Number of Trips 5-10           | float64 | int64    |\n| Number of Trips 50-100         | float64 | int64    |\n| Number of Trips <1             | float64 | int64    |\n| Number of Trips >=500          | float64 | int64    |\n| Population Not Staying at Home | float64 | int64    |\n| Population Staying at Home     | float64 | int64    |\n| State Postal Code              | object  | float64  |\n+--------------------------------+---------+----------+\n\nThe following columns also raised exceptions on conversion:\n\n- County Name\n  ValueError(\"could not convert string to float: 'Weston County'\")\n- State Postal Code\n  ValueError(\"could not convert string to float: 'NV'\")\n\nUsually this is due to dask's dtype inference failing, and\n*may* be fixed by specifying dtypes manually by adding:\n\ndtype={'County Name': 'object',\n       'Number of Trips': 'float64',\n       'Number of Trips 1-3': 'float64',\n       'Number of Trips 10-25': 'float64',\n       'Number of Trips 100-250': 'float64',\n       'Number of Trips 25-50': 'float64',\n       'Number of Trips 250-500': 'float64',\n       'Number of Trips 3-5': 'float64',\n       'Number of Trips 5-10': 'float64',\n       'Number of Trips 50-100': 'float64',\n       'Number of Trips <1': 'float64',\n       'Number of Trips >=500': 'float64',\n       'Population Not Staying at Home': 'float64',\n       'Population Staying at Home': 'float64',\n       'State Postal Code': 'object'}\n\nto the call to `read_csv`/`read_table`.",
     "output_type": "error",
     "traceback": [
      "\u001b[31m---------------------------------------------------------------------------\u001b[39m",
      "\u001b[31mValueError\u001b[39m                                Traceback (most recent call last)",
      "\u001b[36mCell\u001b[39m\u001b[36m \u001b[39m\u001b[32mIn[2]\u001b[39m\u001b[32m, line 9\u001b[39m\n\u001b[32m      7\u001b[39m \u001b[38;5;28mprint\u001b[39m(df.head())\n\u001b[32m      8\u001b[39m \u001b[38;5;28mprint\u001b[39m(df_full.head())\n\u001b[32m----> \u001b[39m\u001b[32m9\u001b[39m \u001b[38;5;28mprint\u001b[39m(\u001b[43mdf_dask\u001b[49m\u001b[43m.\u001b[49m\u001b[43mhead\u001b[49m\u001b[43m(\u001b[49m\u001b[43m)\u001b[49m.compute())\n\u001b[32m     10\u001b[39m \u001b[38;5;28mprint\u001b[39m(df_full_dask.head().compute())\n",
      "\u001b[36mFile \u001b[39m\u001b[32m~\\AppData\\Roaming\\Python\\Python313\\site-packages\\dask\\dataframe\\dask_expr\\_collection.py:711\u001b[39m, in \u001b[36mFrameBase.head\u001b[39m\u001b[34m(self, n, npartitions, compute)\u001b[39m\n\u001b[32m    709\u001b[39m out = new_collection(expr.Head(\u001b[38;5;28mself\u001b[39m, n=n, npartitions=npartitions))\n\u001b[32m    710\u001b[39m \u001b[38;5;28;01mif\u001b[39;00m compute:\n\u001b[32m--> \u001b[39m\u001b[32m711\u001b[39m     out = \u001b[43mout\u001b[49m\u001b[43m.\u001b[49m\u001b[43mcompute\u001b[49m\u001b[43m(\u001b[49m\u001b[43m)\u001b[49m\n\u001b[32m    712\u001b[39m \u001b[38;5;28;01mreturn\u001b[39;00m out\n",
      "\u001b[36mFile \u001b[39m\u001b[32m~\\AppData\\Roaming\\Python\\Python313\\site-packages\\dask\\dataframe\\dask_expr\\_collection.py:489\u001b[39m, in \u001b[36mFrameBase.compute\u001b[39m\u001b[34m(self, fuse, concatenate, **kwargs)\u001b[39m\n\u001b[32m    487\u001b[39m     out = out.repartition(npartitions=\u001b[32m1\u001b[39m)\n\u001b[32m    488\u001b[39m out = out.optimize(fuse=fuse)\n\u001b[32m--> \u001b[39m\u001b[32m489\u001b[39m \u001b[38;5;28;01mreturn\u001b[39;00m \u001b[43mDaskMethodsMixin\u001b[49m\u001b[43m.\u001b[49m\u001b[43mcompute\u001b[49m\u001b[43m(\u001b[49m\u001b[43mout\u001b[49m\u001b[43m,\u001b[49m\u001b[43m \u001b[49m\u001b[43m*\u001b[49m\u001b[43m*\u001b[49m\u001b[43mkwargs\u001b[49m\u001b[43m)\u001b[49m\n",
      "\u001b[36mFile \u001b[39m\u001b[32m~\\AppData\\Roaming\\Python\\Python313\\site-packages\\dask\\base.py:374\u001b[39m, in \u001b[36mDaskMethodsMixin.compute\u001b[39m\u001b[34m(self, **kwargs)\u001b[39m\n\u001b[32m    350\u001b[39m \u001b[38;5;28;01mdef\u001b[39;00m\u001b[38;5;250m \u001b[39m\u001b[34mcompute\u001b[39m(\u001b[38;5;28mself\u001b[39m, **kwargs):\n\u001b[32m    351\u001b[39m \u001b[38;5;250m    \u001b[39m\u001b[33;03m\"\"\"Compute this dask collection\u001b[39;00m\n\u001b[32m    352\u001b[39m \n\u001b[32m    353\u001b[39m \u001b[33;03m    This turns a lazy Dask collection into its in-memory equivalent.\u001b[39;00m\n\u001b[32m   (...)\u001b[39m\u001b[32m    372\u001b[39m \u001b[33;03m    dask.compute\u001b[39;00m\n\u001b[32m    373\u001b[39m \u001b[33;03m    \"\"\"\u001b[39;00m\n\u001b[32m--> \u001b[39m\u001b[32m374\u001b[39m     (result,) = \u001b[43mcompute\u001b[49m\u001b[43m(\u001b[49m\u001b[38;5;28;43mself\u001b[39;49m\u001b[43m,\u001b[49m\u001b[43m \u001b[49m\u001b[43mtraverse\u001b[49m\u001b[43m=\u001b[49m\u001b[38;5;28;43;01mFalse\u001b[39;49;00m\u001b[43m,\u001b[49m\u001b[43m \u001b[49m\u001b[43m*\u001b[49m\u001b[43m*\u001b[49m\u001b[43mkwargs\u001b[49m\u001b[43m)\u001b[49m\n\u001b[32m    375\u001b[39m     \u001b[38;5;28;01mreturn\u001b[39;00m result\n",
      "\u001b[36mFile \u001b[39m\u001b[32m~\\AppData\\Roaming\\Python\\Python313\\site-packages\\dask\\base.py:662\u001b[39m, in \u001b[36mcompute\u001b[39m\u001b[34m(traverse, optimize_graph, scheduler, get, *args, **kwargs)\u001b[39m\n\u001b[32m    659\u001b[39m     postcomputes.append(x.__dask_postcompute__())\n\u001b[32m    661\u001b[39m \u001b[38;5;28;01mwith\u001b[39;00m shorten_traceback():\n\u001b[32m--> \u001b[39m\u001b[32m662\u001b[39m     results = \u001b[43mschedule\u001b[49m\u001b[43m(\u001b[49m\u001b[43mdsk\u001b[49m\u001b[43m,\u001b[49m\u001b[43m \u001b[49m\u001b[43mkeys\u001b[49m\u001b[43m,\u001b[49m\u001b[43m \u001b[49m\u001b[43m*\u001b[49m\u001b[43m*\u001b[49m\u001b[43mkwargs\u001b[49m\u001b[43m)\u001b[49m\n\u001b[32m    664\u001b[39m \u001b[38;5;28;01mreturn\u001b[39;00m repack([f(r, *a) \u001b[38;5;28;01mfor\u001b[39;00m r, (f, a) \u001b[38;5;129;01min\u001b[39;00m \u001b[38;5;28mzip\u001b[39m(results, postcomputes)])\n",
      "\u001b[36mFile \u001b[39m\u001b[32m~\\AppData\\Roaming\\Python\\Python313\\site-packages\\dask\\dataframe\\io\\csv.py:351\u001b[39m, in \u001b[36m_read_csv\u001b[39m\u001b[34m(block, part, columns, reader, header, dtypes, head, colname, full_columns, enforce, kwargs, blocksize)\u001b[39m\n\u001b[32m    348\u001b[39m         rest_kwargs[\u001b[33m\"\u001b[39m\u001b[33musecols\u001b[39m\u001b[33m\"\u001b[39m] = _columns\n\u001b[32m    350\u001b[39m \u001b[38;5;66;03m# Call `pandas_read_text`\u001b[39;00m\n\u001b[32m--> \u001b[39m\u001b[32m351\u001b[39m df = \u001b[43mpandas_read_text\u001b[49m\u001b[43m(\u001b[49m\n\u001b[32m    352\u001b[39m \u001b[43m    \u001b[49m\u001b[43mreader\u001b[49m\u001b[43m,\u001b[49m\n\u001b[32m    353\u001b[39m \u001b[43m    \u001b[49m\u001b[43mblock\u001b[49m\u001b[43m,\u001b[49m\n\u001b[32m    354\u001b[39m \u001b[43m    \u001b[49m\u001b[43mheader\u001b[49m\u001b[43m,\u001b[49m\n\u001b[32m    355\u001b[39m \u001b[43m    \u001b[49m\u001b[43mrest_kwargs\u001b[49m\u001b[43m,\u001b[49m\n\u001b[32m    356\u001b[39m \u001b[43m    \u001b[49m\u001b[43mdtypes\u001b[49m\u001b[43m,\u001b[49m\n\u001b[32m    357\u001b[39m \u001b[43m    \u001b[49m\u001b[43m_columns\u001b[49m\u001b[43m,\u001b[49m\n\u001b[32m    358\u001b[39m \u001b[43m    \u001b[49m\u001b[43mwrite_header\u001b[49m\u001b[43m,\u001b[49m\n\u001b[32m    359\u001b[39m \u001b[43m    \u001b[49m\u001b[43menforce\u001b[49m\u001b[43m,\u001b[49m\n\u001b[32m    360\u001b[39m \u001b[43m    \u001b[49m\u001b[43mpath_info\u001b[49m\u001b[43m,\u001b[49m\n\u001b[32m    361\u001b[39m \u001b[43m\u001b[49m\u001b[43m)\u001b[49m\n\u001b[32m    362\u001b[39m \u001b[38;5;28;01mif\u001b[39;00m project_after_read:\n\u001b[32m    363\u001b[39m     \u001b[38;5;28;01mreturn\u001b[39;00m df[columns]\n",
      "\u001b[36mFile \u001b[39m\u001b[32m~\\AppData\\Roaming\\Python\\Python313\\site-packages\\dask\\dataframe\\io\\csv.py:79\u001b[39m, in \u001b[36mpandas_read_text\u001b[39m\u001b[34m(reader, b, header, kwargs, dtypes, columns, write_header, enforce, path)\u001b[39m\n\u001b[32m     77\u001b[39m df = reader(bio, **kwargs)\n\u001b[32m     78\u001b[39m \u001b[38;5;28;01mif\u001b[39;00m dtypes:\n\u001b[32m---> \u001b[39m\u001b[32m79\u001b[39m     \u001b[43mcoerce_dtypes\u001b[49m\u001b[43m(\u001b[49m\u001b[43mdf\u001b[49m\u001b[43m,\u001b[49m\u001b[43m \u001b[49m\u001b[43mdtypes\u001b[49m\u001b[43m)\u001b[49m\n\u001b[32m     81\u001b[39m \u001b[38;5;28;01mif\u001b[39;00m enforce \u001b[38;5;129;01mand\u001b[39;00m columns \u001b[38;5;129;01mand\u001b[39;00m (\u001b[38;5;28mlist\u001b[39m(df.columns) != \u001b[38;5;28mlist\u001b[39m(columns)):\n\u001b[32m     82\u001b[39m     \u001b[38;5;28;01mraise\u001b[39;00m \u001b[38;5;167;01mValueError\u001b[39;00m(\u001b[33m\"\u001b[39m\u001b[33mColumns do not match\u001b[39m\u001b[33m\"\u001b[39m, df.columns, columns)\n",
      "\u001b[36mFile \u001b[39m\u001b[32m~\\AppData\\Roaming\\Python\\Python313\\site-packages\\dask\\dataframe\\io\\csv.py:180\u001b[39m, in \u001b[36mcoerce_dtypes\u001b[39m\u001b[34m(df, dtypes)\u001b[39m\n\u001b[32m    176\u001b[39m rule = \u001b[33m\"\u001b[39m\u001b[38;5;130;01m\\n\u001b[39;00m\u001b[38;5;130;01m\\n\u001b[39;00m\u001b[38;5;132;01m%s\u001b[39;00m\u001b[38;5;130;01m\\n\u001b[39;00m\u001b[38;5;130;01m\\n\u001b[39;00m\u001b[33m\"\u001b[39m % (\u001b[33m\"\u001b[39m\u001b[33m-\u001b[39m\u001b[33m\"\u001b[39m * \u001b[32m61\u001b[39m)\n\u001b[32m    177\u001b[39m msg = \u001b[33m\"\u001b[39m\u001b[33mMismatched dtypes found in `pd.read_csv`/`pd.read_table`.\u001b[39m\u001b[38;5;130;01m\\n\u001b[39;00m\u001b[38;5;130;01m\\n\u001b[39;00m\u001b[38;5;132;01m%s\u001b[39;00m\u001b[33m\"\u001b[39m % (\n\u001b[32m    178\u001b[39m     rule.join(\u001b[38;5;28mfilter\u001b[39m(\u001b[38;5;28;01mNone\u001b[39;00m, [dtype_msg, date_msg]))\n\u001b[32m    179\u001b[39m )\n\u001b[32m--> \u001b[39m\u001b[32m180\u001b[39m \u001b[38;5;28;01mraise\u001b[39;00m \u001b[38;5;167;01mValueError\u001b[39;00m(msg)\n",
      "\u001b[31mValueError\u001b[39m: Mismatched dtypes found in `pd.read_csv`/`pd.read_table`.\n\n+--------------------------------+---------+----------+\n| Column                         | Found   | Expected |\n+--------------------------------+---------+----------+\n| County Name                    | object  | float64  |\n| Number of Trips                | float64 | int64    |\n| Number of Trips 1-3            | float64 | int64    |\n| Number of Trips 10-25          | float64 | int64    |\n| Number of Trips 100-250        | float64 | int64    |\n| Number of Trips 25-50          | float64 | int64    |\n| Number of Trips 250-500        | float64 | int64    |\n| Number of Trips 3-5            | float64 | int64    |\n| Number of Trips 5-10           | float64 | int64    |\n| Number of Trips 50-100         | float64 | int64    |\n| Number of Trips <1             | float64 | int64    |\n| Number of Trips >=500          | float64 | int64    |\n| Population Not Staying at Home | float64 | int64    |\n| Population Staying at Home     | float64 | int64    |\n| State Postal Code              | object  | float64  |\n+--------------------------------+---------+----------+\n\nThe following columns also raised exceptions on conversion:\n\n- County Name\n  ValueError(\"could not convert string to float: 'Weston County'\")\n- State Postal Code\n  ValueError(\"could not convert string to float: 'NV'\")\n\nUsually this is due to dask's dtype inference failing, and\n*may* be fixed by specifying dtypes manually by adding:\n\ndtype={'County Name': 'object',\n       'Number of Trips': 'float64',\n       'Number of Trips 1-3': 'float64',\n       'Number of Trips 10-25': 'float64',\n       'Number of Trips 100-250': 'float64',\n       'Number of Trips 25-50': 'float64',\n       'Number of Trips 250-500': 'float64',\n       'Number of Trips 3-5': 'float64',\n       'Number of Trips 5-10': 'float64',\n       'Number of Trips 50-100': 'float64',\n       'Number of Trips <1': 'float64',\n       'Number of Trips >=500': 'float64',\n       'Population Not Staying at Home': 'float64',\n       'Population Staying at Home': 'float64',\n       'State Postal Code': 'object'}\n\nto the call to `read_csv`/`read_table`."
     ]
    }
   ],
   "source": [
    "df = pd.read_csv(r\"C:\\Users\\zeiad\\DataScience\\Trips_by_Distance (1).csv\")\n",
    "df_full = pd.read_csv(r\"C:\\Users\\zeiad\\DataScience\\Trips_Full Data (2).csv\")\n",
    "\n",
    "df_dask = dd.read_csv(r\"C:\\Users\\zeiad\\DataScience\\Trips_by_Distance (1).csv\")\n",
    "df_full_dask = dd.read_csv(r\"C:\\Users\\zeiad\\DataScience\\Trips_Full Data (2).csv\")\n",
    "\n",
    "print(df.head())\n",
    "print(df_full.head())\n",
    "print(df_dask.head().compute())\n",
    "print(df_full_dask.head().compute())\n"
   ]
  },
  {
   "cell_type": "code",
   "execution_count": null,
   "id": "b748f480-b7d8-47f1-b07e-6452a91e8f29",
   "metadata": {},
   "outputs": [],
   "source": []
  }
 ],
 "metadata": {
  "kernelspec": {
   "display_name": "Python 3 (ipykernel)",
   "language": "python",
   "name": "python3"
  },
  "language_info": {
   "codemirror_mode": {
    "name": "ipython",
    "version": 3
   },
   "file_extension": ".py",
   "mimetype": "text/x-python",
   "name": "python",
   "nbconvert_exporter": "python",
   "pygments_lexer": "ipython3",
   "version": "3.13.1"
  }
 },
 "nbformat": 4,
 "nbformat_minor": 5
}
